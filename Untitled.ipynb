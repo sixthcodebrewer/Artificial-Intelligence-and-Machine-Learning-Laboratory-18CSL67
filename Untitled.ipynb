{
 "cells": [
  {
   "cell_type": "code",
   "execution_count": 6,
   "id": "7f1d5b8f",
   "metadata": {},
   "outputs": [
    {
     "name": "stdout",
     "output_type": "stream",
     "text": [
      "Number of emails: 5728\n",
      "Number of spam emails: 1368\n",
      "\n",
      "Probability of spam: 0.2388268156424581\n",
      "\n",
      "Prediction using Bayes for word sale 0.48148148148148145\n",
      "Prediction using Bayes for word lottery 0.9\n",
      "\n",
      "Prediction using NaiveBayes for word lottery sale 0.9638144992048691\n",
      "Prediction using NaiveBayes for word asdfgh 0.2388268156424581\n",
      "Prediction using NaiveBayes  0.12554358867164464\n"
     ]
    }
   ],
   "source": [
    "import numpy as np\n",
    "import pandas as pd\n",
    "emails = pd.read_csv('./emails.csv')\n",
    "#emails[:10]\n",
    "def process_email(text):\n",
    "    text = text.lower()\n",
    "    return list(set(text.split()))\n",
    "\n",
    "emails['words'] = emails['text'].apply(process_email)\n",
    "num_emails = len(emails)\n",
    "num_spam = sum(emails['spam'])\n",
    "\n",
    "print(\"Number of emails:\", num_emails)\n",
    "print(\"Number of spam emails:\", num_spam)\n",
    "print()\n",
    "\n",
    "# Calculating the prior probability that an email is spam\n",
    "print(\"Probability of spam:\", num_spam/num_emails)\n",
    "print()\n",
    "\n",
    "model = {}\n",
    "\n",
    "# Training process\n",
    "for index, email in emails.iterrows():\n",
    "    for word in email['words']:\n",
    "        if word not in model:\n",
    "            model[word] = {'spam': 1, 'ham': 1}\n",
    "        if word in model:\n",
    "            if email['spam']:\n",
    "                model[word]['spam'] += 1\n",
    "            else:\n",
    "                model[word]['ham'] += 1\n",
    "\n",
    "def predict_bayes(word):\n",
    "    word = word.lower()\n",
    "    num_spam_with_word = model[word]['spam']\n",
    "    num_ham_with_word = model[word]['ham']\n",
    "    return 1.0*num_spam_with_word/(num_spam_with_word + num_ham_with_word)\n",
    "print(\"Prediction using Bayes for word sale\",predict_bayes(\"sale\"))\n",
    "print(\"Prediction using Bayes for word lottery\",predict_bayes(\"lottery\"))\n",
    "print()\n",
    "\n",
    "def predict_naive_bayes(email):\n",
    "    total = len(emails)\n",
    "    num_spam = sum(emails['spam'])\n",
    "    num_ham = total - num_spam\n",
    "    email = email.lower()\n",
    "    words = set(email.split())\n",
    "    spams = [1.0]\n",
    "    hams = [1.0]\n",
    "    for word in words:\n",
    "        if word in model:\n",
    "            spams.append(model[word]['spam']/num_spam*total)\n",
    "            hams.append(model[word]['ham']/num_ham*total)\n",
    "    prod_spams = np.compat.long(np.prod(spams)*num_spam)\n",
    "    prod_hams = np.compat.long(np.prod(hams)*num_ham)\n",
    "    return prod_spams/(prod_spams + prod_hams)\n",
    "\n",
    "print(\"Prediction using NaiveBayes for word lottery sale\",predict_naive_bayes(\"lottery sale\"))\n",
    "print(\"Prediction using NaiveBayes for word asdfgh\",predict_naive_bayes(\"asdfgh\"))\n",
    "print(\"Prediction using NaiveBayes \",predict_naive_bayes('Hi mom how are you'))\n",
    "\n"
   ]
  },
  {
   "cell_type": "code",
   "execution_count": null,
   "id": "8ef7cd96",
   "metadata": {},
   "outputs": [],
   "source": []
  }
 ],
 "metadata": {
  "kernelspec": {
   "display_name": "Python 3",
   "language": "python",
   "name": "python3"
  },
  "language_info": {
   "codemirror_mode": {
    "name": "ipython",
    "version": 3
   },
   "file_extension": ".py",
   "mimetype": "text/x-python",
   "name": "python",
   "nbconvert_exporter": "python",
   "pygments_lexer": "ipython3",
   "version": "3.7.0"
  }
 },
 "nbformat": 4,
 "nbformat_minor": 5
}
